{
 "cells": [
  {
   "cell_type": "code",
   "execution_count": 1,
   "metadata": {},
   "outputs": [],
   "source": [
    "import pandas as pd"
   ]
  },
  {
   "cell_type": "code",
   "execution_count": 2,
   "metadata": {},
   "outputs": [],
   "source": [
    "content = pd.read_csv('../Data_source/sqlResult_1558435.csv',encoding='gb18030')"
   ]
  },
  {
   "cell_type": "code",
   "execution_count": 3,
   "metadata": {},
   "outputs": [
    {
     "data": {
      "text/plain": [
       "Index(['id', 'author', 'source', 'content', 'feature', 'title', 'url'], dtype='object')"
      ]
     },
     "execution_count": 3,
     "metadata": {},
     "output_type": "execute_result"
    }
   ],
   "source": [
    "content.columns"
   ]
  },
  {
   "cell_type": "code",
   "execution_count": 4,
   "metadata": {},
   "outputs": [
    {
     "name": "stdout",
     "output_type": "stream",
     "text": [
      "89611\n"
     ]
    }
   ],
   "source": [
    "print(len(content))"
   ]
  },
  {
   "cell_type": "code",
   "execution_count": 5,
   "metadata": {},
   "outputs": [
    {
     "data": {
      "text/plain": [
       "'此外，自本周（6月12日）起，除小米手机6等15款机型外，其余机型已暂停更新发布（含开发版/体验版内测，稳定版暂不受影响），以确保工程师可以集中全部精力进行系统优化工作。有人猜测这也是将精力主要用到MIUI 9的研发之中。\\r\\nMIUI 8去年5月发布，距今已有一年有余，也是时候更新换代了。\\r\\n当然，关于MIUI 9的确切信息，我们还是等待官方消息。\\r\\n'"
      ]
     },
     "execution_count": 5,
     "metadata": {},
     "output_type": "execute_result"
    }
   ],
   "source": [
    "content.iloc[0].content"
   ]
  },
  {
   "cell_type": "code",
   "execution_count": 6,
   "metadata": {},
   "outputs": [],
   "source": [
    "from collections import Counter"
   ]
  },
  {
   "cell_type": "code",
   "execution_count": 7,
   "metadata": {},
   "outputs": [],
   "source": [
    "import jieba"
   ]
  },
  {
   "cell_type": "code",
   "execution_count": 8,
   "metadata": {},
   "outputs": [],
   "source": [
    "def cut(string): \n",
    "    return list(jieba.cut(str(string)))"
   ]
  },
  {
   "cell_type": "code",
   "execution_count": 9,
   "metadata": {},
   "outputs": [
    {
     "name": "stderr",
     "output_type": "stream",
     "text": [
      "Building prefix dict from the default dictionary ...\n",
      "Loading model from cache /var/folders/hl/h3j1rdm12ql18b0lr03mtk580000gn/T/jieba.cache\n",
      "Loading model cost 0.775 seconds.\n",
      "Prefix dict has been built succesfully.\n"
     ]
    },
    {
     "data": {
      "text/plain": [
       "dict_values([1, 9, 1, 1, 2, 2, 2, 1, 1, 2, 1, 1, 1, 1, 1, 1, 1, 2, 1, 1, 1, 1, 1, 2, 1, 1, 1, 1, 1, 1, 1, 1, 1, 1, 1, 1, 1, 1, 1, 2, 1, 1, 1, 4, 1, 1, 1, 2, 2, 1, 1, 1, 3, 3, 2, 2, 1, 1, 3, 1, 1, 1, 1, 1, 1, 1, 1, 1, 1, 1, 1, 1, 1, 1, 1, 1])"
      ]
     },
     "execution_count": 9,
     "metadata": {},
     "output_type": "execute_result"
    }
   ],
   "source": [
    "# Counter返回的是个dict，表明每个单词的个数\n",
    "# Counter(cut(content.iloc[0].content))\n",
    "Counter(cut(content.iloc[0].content)).values()\n",
    "# sum(Counter(cut(content.iloc[0].content)).values())"
   ]
  },
  {
   "cell_type": "code",
   "execution_count": 10,
   "metadata": {},
   "outputs": [],
   "source": [
    "mini_test_num = 3611"
   ]
  },
  {
   "cell_type": "code",
   "execution_count": 11,
   "metadata": {},
   "outputs": [],
   "source": [
    "wordsofdocuments = [cut(content.iloc[i].content) for i in range(mini_test_num)]\n",
    "words_counts_of_documents= [Counter(wordsofdocuments[i]) for i in range(mini_test_num)]\n",
    "sum_of_words =[sum(words_counts_of_documents[i].values()) for i in range(mini_test_num)]"
   ]
  },
  {
   "cell_type": "code",
   "execution_count": 12,
   "metadata": {},
   "outputs": [],
   "source": [
    "# 定义word在第i个document中的频率： (word在第i个document出现的次数)/(第i个document中word的个数)\n",
    "def term_frequency(word, i):\n",
    "    # words = cut(content.iloc[i].content)\n",
    "    # words = wordsofdocuments[i] \n",
    "    # words_counts= Counter(words)\n",
    "    words_counts = words_counts_of_documents[i]\n",
    "    if (words_counts[word]==0): return 0\n",
    "    #return words_counts[word]/sum(words_counts.values())\n",
    "    return words_counts[word]/sum_of_words[i]"
   ]
  },
  {
   "cell_type": "code",
   "execution_count": 13,
   "metadata": {},
   "outputs": [
    {
     "data": {
      "text/plain": [
       "0.009615384615384616"
      ]
     },
     "execution_count": 13,
     "metadata": {},
     "output_type": "execute_result"
    }
   ],
   "source": [
    "term_frequency('小米', 0)"
   ]
  },
  {
   "cell_type": "raw",
   "metadata": {},
   "source": []
  },
  {
   "cell_type": "code",
   "execution_count": 14,
   "metadata": {},
   "outputs": [],
   "source": [
    "# documents_words_counter =[\n",
    "#     Counter(cut(str(content.iloc[i].content))) for i in range(mini_test_num)\n",
    "# ]\n",
    "documents_words_counter=words_counts_of_documents"
   ]
  },
  {
   "cell_type": "code",
   "execution_count": 19,
   "metadata": {},
   "outputs": [],
   "source": [
    "import numpy as np\n",
    "from functools import reduce\n",
    "import operator as op"
   ]
  },
  {
   "cell_type": "code",
   "execution_count": 20,
   "metadata": {},
   "outputs": [
    {
     "data": {
      "text/plain": [
       "90352"
      ]
     },
     "execution_count": 20,
     "metadata": {},
     "output_type": "execute_result"
    }
   ],
   "source": [
    "all_words_counter = reduce(op.add, documents_words_counter)\n",
    "len(all_words_counter)\n",
    "# 所有word的个数"
   ]
  },
  {
   "cell_type": "code",
   "execution_count": 23,
   "metadata": {},
   "outputs": [],
   "source": [
    "all_words_counter['小米']\n",
    "sum_word_in_document = reduce(op.add, documents_words_counter)\n",
    "for word in sum_word_in_document:\n",
    "    sum_word_of_doucments=sum(1 for counter in documents_words_counter if word in counter)\n",
    "    sum_word_in_document[word]=sum_word_of_doucments\n",
    "\n",
    "        "
   ]
  },
  {
   "cell_type": "code",
   "execution_count": 24,
   "metadata": {},
   "outputs": [],
   "source": [
    "# word的反向文件频率inverse document frequency:  log(文件样本数目/有word出现的文件样本数目)\n",
    "length=len(documents_words_counter)\n",
    "def inverse_document_frequency(word):\n",
    "    # return np.log(len(documents_words_counter)/sum(1 for counter in documents_words_counter if word in counter))\n",
    "    return np.log(length/sum_word_in_document[word])"
   ]
  },
  {
   "cell_type": "code",
   "execution_count": 25,
   "metadata": {},
   "outputs": [
    {
     "data": {
      "text/plain": [
       "4.933643483255976"
      ]
     },
     "execution_count": 25,
     "metadata": {},
     "output_type": "execute_result"
    }
   ],
   "source": [
    "inverse_document_frequency('小米')"
   ]
  },
  {
   "cell_type": "code",
   "execution_count": 26,
   "metadata": {},
   "outputs": [],
   "source": [
    "# all_words_counter\n",
    "# sum_word_in_document"
   ]
  },
  {
   "cell_type": "code",
   "execution_count": 27,
   "metadata": {},
   "outputs": [],
   "source": [
    "# tfidf:word在第i个文档tdidf：term_frequency越高，word在该文档中越有分量， 但是如果word是个通用的stopword，idf会越小，word分量就减轻了\n",
    "def tfidf(word, i): \n",
    "    tf=term_frequency(word, i)\n",
    "    if(tf==0): return 0\n",
    "    return tf * inverse_document_frequency(word)"
   ]
  },
  {
   "cell_type": "code",
   "execution_count": 28,
   "metadata": {},
   "outputs": [
    {
     "data": {
      "text/plain": [
       "0.04743887964669208"
      ]
     },
     "execution_count": 28,
     "metadata": {},
     "output_type": "execute_result"
    }
   ],
   "source": [
    "tfidf('小米', 0)"
   ]
  },
  {
   "cell_type": "code",
   "execution_count": 29,
   "metadata": {},
   "outputs": [
    {
     "data": {
      "text/plain": [
       "[('，', 9),\n",
       " ('。', 4),\n",
       " ('MIUI', 3),\n",
       " (' ', 3),\n",
       " ('\\r\\n', 3),\n",
       " ('（', 2),\n",
       " ('6', 2),\n",
       " ('月', 2),\n",
       " ('）', 2),\n",
       " ('机型', 2),\n",
       " ('发布', 2),\n",
       " ('精力', 2),\n",
       " ('也', 2),\n",
       " ('是', 2),\n",
       " ('9', 2)]"
      ]
     },
     "execution_count": 29,
     "metadata": {},
     "output_type": "execute_result"
    }
   ],
   "source": [
    "documents_words_counter[0].most_common(15)"
   ]
  },
  {
   "cell_type": "code",
   "execution_count": 30,
   "metadata": {},
   "outputs": [],
   "source": [
    "tfidf_of_document_0 ={\n",
    "    word : tfidf(word, 0) for word in documents_words_counter[0]\n",
    "}"
   ]
  },
  {
   "cell_type": "code",
   "execution_count": 31,
   "metadata": {},
   "outputs": [],
   "source": [
    "# tfidf_of_document_0.items()"
   ]
  },
  {
   "cell_type": "code",
   "execution_count": 32,
   "metadata": {},
   "outputs": [
    {
     "data": {
      "text/plain": [
       "[('MIUI', 0.23630019292146512),\n",
       " ('机型', 0.10194938968040948),\n",
       " ('精力', 0.10090963542521188),\n",
       " ('体验版', 0.07876673097382171),\n",
       " ('稳定版', 0.07876673097382171),\n",
       " ('暂不受', 0.07876673097382171),\n",
       " ('系统优化', 0.07876673097382171),\n",
       " ('距今已有', 0.07876673097382171),\n",
       " ('内测', 0.07210185423766839),\n",
       " ('用到', 0.06543697750151507),\n",
       " ('有余', 0.06329136643118613),\n",
       " ('更新换代', 0.06329136643118613),\n",
       " ('官方消息', 0.06005605646367447),\n",
       " ('确切', 0.05571004565845276),\n",
       " ('小米', 0.04743887964669208)]"
      ]
     },
     "execution_count": 32,
     "metadata": {},
     "output_type": "execute_result"
    }
   ],
   "source": [
    "sorted(tfidf_of_document_0.items(), key= lambda x:x[1], reverse= True)[:15]"
   ]
  },
  {
   "cell_type": "code",
   "execution_count": 33,
   "metadata": {},
   "outputs": [],
   "source": [
    "from functools import reduce"
   ]
  },
  {
   "cell_type": "code",
   "execution_count": 34,
   "metadata": {},
   "outputs": [],
   "source": [
    "import operator as op"
   ]
  },
  {
   "cell_type": "code",
   "execution_count": null,
   "metadata": {},
   "outputs": [],
   "source": []
  },
  {
   "cell_type": "code",
   "execution_count": null,
   "metadata": {},
   "outputs": [],
   "source": []
  },
  {
   "cell_type": "code",
   "execution_count": 35,
   "metadata": {},
   "outputs": [],
   "source": [
    "# 第一个document的向量， 向量中的每个元素对于于word的tfidf\n",
    "document_0 = [tfidf(w, 0) for w in all_words_counter]"
   ]
  },
  {
   "cell_type": "code",
   "execution_count": 36,
   "metadata": {},
   "outputs": [],
   "source": [
    "## tfidf ==> sci-kit learning; "
   ]
  },
  {
   "cell_type": "code",
   "execution_count": 37,
   "metadata": {},
   "outputs": [],
   "source": [
    "# 项目开始"
   ]
  },
  {
   "cell_type": "code",
   "execution_count": null,
   "metadata": {},
   "outputs": [],
   "source": []
  },
  {
   "cell_type": "code",
   "execution_count": 38,
   "metadata": {},
   "outputs": [],
   "source": [
    "sources = [content.iloc[i].source for i in range(mini_test_num)]"
   ]
  },
  {
   "cell_type": "code",
   "execution_count": 39,
   "metadata": {},
   "outputs": [],
   "source": [
    "# documents = [[tfidf(w, i) for w in all_words_counter] for i in range(mini_test_num)]\n",
    "def documentize(i):\n",
    "    return [tfidf(w, i) for w in all_words_counter]\n"
   ]
  },
  {
   "cell_type": "code",
   "execution_count": 40,
   "metadata": {},
   "outputs": [],
   "source": [
    "# documents=list(map(documentize, range(1)))"
   ]
  },
  {
   "cell_type": "code",
   "execution_count": 41,
   "metadata": {},
   "outputs": [],
   "source": [
    "# document_x =documentize(0)"
   ]
  },
  {
   "cell_type": "code",
   "execution_count": 42,
   "metadata": {},
   "outputs": [],
   "source": [
    "documents=list(map(documentize, range(mini_test_num)))"
   ]
  },
  {
   "cell_type": "code",
   "execution_count": 43,
   "metadata": {},
   "outputs": [],
   "source": [
    "def naming(s):\n",
    "    i = s.find('@')\n",
    "    if (i==-1): return s\n",
    "    else: return s[:i]\n",
    "sources_consice = list(map(naming, sources))\n",
    "# naming('新华社@http://')"
   ]
  },
  {
   "cell_type": "code",
   "execution_count": 44,
   "metadata": {},
   "outputs": [],
   "source": [
    "# for i in range(len(sources_consice)):\n",
    "#     if(sources_consice[i]=='新华社'):\n",
    "#         print(\"新华社\")"
   ]
  },
  {
   "cell_type": "code",
   "execution_count": 45,
   "metadata": {},
   "outputs": [
    {
     "name": "stdout",
     "output_type": "stream",
     "text": [
      "['a' 'abc' 'b' 'c']\n",
      "[1 0 1 2 3]\n",
      "['abc' 'a' 'abc' 'b' 'c']\n"
     ]
    }
   ],
   "source": [
    "y_name, y = np.unique(['abc','a','abc','b','c'], return_inverse=True)\n",
    "print(y_name)\n",
    "print(y)\n",
    "print(y_name[y])\n"
   ]
  },
  {
   "cell_type": "code",
   "execution_count": 46,
   "metadata": {},
   "outputs": [],
   "source": [
    "\n",
    "y_name, y = np.unique(sources_consice, return_inverse=True)"
   ]
  },
  {
   "cell_type": "code",
   "execution_count": 47,
   "metadata": {},
   "outputs": [
    {
     "name": "stdout",
     "output_type": "stream",
     "text": [
      "新华社\n",
      "264\n",
      "---\n",
      "3\n",
      "264\n",
      "新华社\n",
      "39\n",
      "264\n",
      "新华社\n",
      "65\n",
      "264\n",
      "新华社\n",
      "95\n",
      "264\n",
      "新华社\n",
      "113\n",
      "264\n",
      "新华社\n",
      "305\n",
      "264\n",
      "新华社\n",
      "312\n",
      "264\n",
      "新华社\n",
      "314\n",
      "264\n",
      "新华社\n",
      "543\n",
      "264\n",
      "新华社\n",
      "545\n",
      "264\n",
      "新华社\n",
      "651\n",
      "264\n",
      "新华社\n",
      "671\n",
      "264\n",
      "新华社\n",
      "679\n",
      "264\n",
      "新华社\n",
      "715\n",
      "264\n",
      "新华社\n",
      "731\n",
      "264\n",
      "新华社\n",
      "738\n",
      "264\n",
      "新华社\n",
      "794\n",
      "264\n",
      "新华社\n",
      "810\n",
      "264\n",
      "新华社\n",
      "816\n",
      "264\n",
      "新华社\n",
      "909\n",
      "264\n",
      "新华社\n",
      "931\n",
      "264\n",
      "新华社\n",
      "934\n",
      "264\n",
      "新华社\n",
      "937\n",
      "264\n",
      "新华社\n",
      "940\n",
      "264\n",
      "新华社\n",
      "943\n",
      "264\n",
      "新华社\n",
      "946\n",
      "264\n",
      "新华社\n",
      "951\n",
      "264\n",
      "新华社\n",
      "954\n",
      "264\n",
      "新华社\n",
      "958\n",
      "264\n",
      "新华社\n",
      "964\n",
      "264\n",
      "新华社\n",
      "966\n",
      "264\n",
      "新华社\n",
      "990\n",
      "264\n",
      "新华社\n",
      "995\n",
      "264\n",
      "新华社\n",
      "1005\n",
      "264\n",
      "新华社\n",
      "1009\n",
      "264\n",
      "新华社\n",
      "1011\n",
      "264\n",
      "新华社\n",
      "1015\n",
      "264\n",
      "新华社\n",
      "1066\n",
      "264\n",
      "新华社\n",
      "1113\n",
      "264\n",
      "新华社\n",
      "1141\n",
      "264\n",
      "新华社\n",
      "1143\n",
      "264\n",
      "新华社\n",
      "1146\n",
      "264\n",
      "新华社\n",
      "1150\n",
      "264\n",
      "新华社\n",
      "1152\n",
      "264\n",
      "新华社\n",
      "1155\n",
      "264\n",
      "新华社\n",
      "1180\n",
      "264\n",
      "新华社\n",
      "1182\n",
      "264\n",
      "新华社\n",
      "1185\n",
      "264\n",
      "新华社\n",
      "1188\n",
      "264\n",
      "新华社\n",
      "1204\n",
      "264\n",
      "新华社\n",
      "1520\n",
      "264\n",
      "新华社\n",
      "1666\n",
      "264\n",
      "新华社\n",
      "1670\n",
      "264\n",
      "新华社\n",
      "1688\n",
      "264\n",
      "新华社\n",
      "1691\n",
      "264\n",
      "新华社\n",
      "1719\n",
      "264\n",
      "新华社\n",
      "1763\n",
      "264\n",
      "新华社\n",
      "1766\n",
      "264\n",
      "新华社\n",
      "1999\n",
      "264\n",
      "新华社\n",
      "2250\n",
      "264\n",
      "新华社\n",
      "2252\n",
      "264\n",
      "新华社\n",
      "2473\n",
      "264\n",
      "新华社\n",
      "2629\n",
      "264\n",
      "新华社\n",
      "2760\n",
      "264\n",
      "新华社\n",
      "2781\n",
      "264\n",
      "新华社\n",
      "2803\n",
      "264\n",
      "新华社\n",
      "2805\n",
      "264\n",
      "新华社\n",
      "2809\n",
      "264\n",
      "新华社\n",
      "2813\n",
      "264\n",
      "新华社\n",
      "2830\n",
      "264\n",
      "新华社\n",
      "2833\n",
      "264\n",
      "新华社\n",
      "3030\n",
      "264\n",
      "新华社\n",
      "3056\n",
      "264\n",
      "新华社\n",
      "3082\n",
      "264\n",
      "新华社\n",
      "3093\n",
      "264\n",
      "新华社\n",
      "3142\n",
      "264\n",
      "新华社\n",
      "3189\n",
      "264\n",
      "新华社\n",
      "3206\n",
      "264\n",
      "新华社\n",
      "3226\n",
      "264\n",
      "新华社\n",
      "3231\n",
      "264\n",
      "新华社\n",
      "3236\n",
      "264\n",
      "新华社\n",
      "3315\n",
      "264\n",
      "新华社\n",
      "3374\n",
      "264\n",
      "新华社\n",
      "3453\n",
      "264\n",
      "新华社\n",
      "3458\n",
      "264\n",
      "新华社\n",
      "3489\n",
      "264\n",
      "新华社\n",
      "3606\n",
      "264\n",
      "新华社\n",
      "490\n",
      "3611\n"
     ]
    }
   ],
   "source": [
    "index = -1\n",
    "print(sources_consice[3])\n",
    "print(y[3])\n",
    "print(\"---\")\n",
    "for i in range(len(sources_consice)):\n",
    "    if(sources_consice[i]=='新华社'):\n",
    "        index=y[i]\n",
    "        print(i)\n",
    "        print(y[i])\n",
    "        print(y_name[y[i]])\n",
    "print(len(y_name))\n",
    "print(len(y))\n"
   ]
  },
  {
   "cell_type": "code",
   "execution_count": 49,
   "metadata": {},
   "outputs": [
    {
     "data": {
      "text/plain": [
       "3611"
      ]
     },
     "execution_count": 49,
     "metadata": {},
     "output_type": "execute_result"
    }
   ],
   "source": [
    "len(documents)"
   ]
  },
  {
   "cell_type": "code",
   "execution_count": 50,
   "metadata": {},
   "outputs": [
    {
     "data": {
      "text/plain": [
       "KNeighborsClassifier(algorithm='auto', leaf_size=30, metric='minkowski',\n",
       "           metric_params=None, n_jobs=1, n_neighbors=10, p=2,\n",
       "           weights=<function _weight_func at 0x11a7c2f28>)"
      ]
     },
     "execution_count": 50,
     "metadata": {},
     "output_type": "execute_result"
    }
   ],
   "source": [
    "n_neighbors = 10\n",
    "def _weight_func(i):\n",
    "    i=1/i\n",
    "    i[:,0]=i[:,0]-i[:,0]\n",
    "    return i\n",
    "from sklearn import neighbors\n",
    "clf = neighbors.KNeighborsClassifier(n_neighbors, weights=_weight_func)\n",
    "clf.fit(documents, y)"
   ]
  },
  {
   "cell_type": "code",
   "execution_count": null,
   "metadata": {},
   "outputs": [],
   "source": []
  },
  {
   "cell_type": "code",
   "execution_count": 53,
   "metadata": {},
   "outputs": [
    {
     "name": "stderr",
     "output_type": "stream",
     "text": [
      "/anaconda2/envs/nlppy3/lib/python3.6/site-packages/ipykernel_launcher.py:3: RuntimeWarning: divide by zero encountered in true_divide\n",
      "  This is separate from the ipykernel package so we can avoid doing imports until\n",
      "/anaconda2/envs/nlppy3/lib/python3.6/site-packages/ipykernel_launcher.py:4: RuntimeWarning: invalid value encountered in subtract\n",
      "  after removing the cwd from sys.path.\n"
     ]
    },
    {
     "name": "stdout",
     "output_type": "stream",
     "text": [
      "127\n",
      "570\n",
      "581\n",
      "599\n",
      "618\n",
      "903\n",
      "982\n",
      "2238\n",
      "2299\n",
      "2301\n",
      "2737\n",
      "2775\n",
      "3066\n",
      "3076\n",
      "3133\n",
      "3211\n",
      "3214\n",
      "3273\n"
     ]
    }
   ],
   "source": [
    "to_be_predict =[documents[i] ]\n",
    "result = []\n",
    "for i in range(len(documents)):\n",
    "    to_be_predict= [documents[i]]\n",
    "    z=clf.predict(to_be_predict)\n",
    "    if(z[0]==index):\n",
    "        print(i) \n",
    "        result.append(i)\n"
   ]
  },
  {
   "cell_type": "code",
   "execution_count": 85,
   "metadata": {},
   "outputs": [
    {
     "name": "stdout",
     "output_type": "stream",
     "text": [
      "经济日报\n",
      "新华网\n",
      "新华网\n",
      "新华网\n",
      "新华网\n",
      "新华网\n",
      "新华网\n",
      "新华网\n",
      "新华网\n",
      "新华网\n",
      "新华网\n",
      "新华网\n",
      "新华网\n",
      "澎湃新闻\n",
      "证券日报\n",
      "新华网\n",
      "环球时报\n",
      "经济参考报\n"
     ]
    }
   ],
   "source": [
    "array = [127,\n",
    "570,\n",
    "581,\n",
    "599,\n",
    "618,\n",
    "903,\n",
    "982,\n",
    "2238,\n",
    "2299,\n",
    "2301,\n",
    "2737,\n",
    "2775,\n",
    "3066,\n",
    "3076,\n",
    "3133,\n",
    "3211,\n",
    "3214,\n",
    "3273]\n",
    "\n",
    "for i in result:\n",
    "    print(sources_consice[i])\n",
    "for i in array:\n",
    "    print(sources_consice[i])\n"
   ]
  },
  {
   "cell_type": "code",
   "execution_count": 54,
   "metadata": {},
   "outputs": [
    {
     "data": {
      "text/plain": [
       "'新华社'"
      ]
     },
     "execution_count": 54,
     "metadata": {},
     "output_type": "execute_result"
    }
   ],
   "source": [
    "y_name[264]"
   ]
  },
  {
   "cell_type": "code",
   "execution_count": null,
   "metadata": {},
   "outputs": [],
   "source": []
  }
 ],
 "metadata": {
  "kernelspec": {
   "display_name": "Python 3",
   "language": "python",
   "name": "python3"
  },
  "language_info": {
   "codemirror_mode": {
    "name": "ipython",
    "version": 3
   },
   "file_extension": ".py",
   "mimetype": "text/x-python",
   "name": "python",
   "nbconvert_exporter": "python",
   "pygments_lexer": "ipython3",
   "version": "3.6.4"
  }
 },
 "nbformat": 4,
 "nbformat_minor": 2
}
